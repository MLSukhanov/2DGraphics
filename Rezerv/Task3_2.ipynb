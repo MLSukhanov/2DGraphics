version https://git-lfs.github.com/spec/v1
oid sha256:cc720bc335f3d7d8d43bdf9b2702e59dcb8ac356d33f414ad382a625decb8773
size 31231866
