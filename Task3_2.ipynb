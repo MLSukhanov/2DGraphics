version https://git-lfs.github.com/spec/v1
oid sha256:adb289f0685d366a848f9d53bd811c68584d2ab5aeb36033d3fdb336af74df1c
size 31232211
