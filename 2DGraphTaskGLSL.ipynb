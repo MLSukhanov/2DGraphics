{
  "cells": [
    {
      "cell_type": "code",
      "execution_count": 1,
      "id": "beb51f5e",
      "metadata": {
        "id": "beb51f5e"
      },
      "outputs": [],
      "source": [
        "import OpenGL\n",
        "OpenGL.ERROR_ON_COPY = True\n",
        "from OpenGL.GL import *\n",
        "from OpenGL.GLU import *\n",
        "from OpenGL.GLUT import *\n",
        "\n",
        "# PyOpenGL 3.0.1 introduces this convenience module...\n",
        "from OpenGL.GL.shaders import *\n",
        "import numpy as np\n",
        "from PIL import Image\n",
        "\n",
        "import time, sys\n",
        "program = None"
      ]
    },
    {
      "cell_type": "markdown",
      "id": "78a20860",
      "metadata": {
        "id": "78a20860"
      },
      "source": [
        "# Инициализация OpenGL. Текстуры и Шейдеры."
      ]
    },
    {
      "cell_type": "code",
      "execution_count": 7,
      "id": "b2ed80bb",
      "metadata": {
        "id": "b2ed80bb"
      },
      "outputs": [],
      "source": [
        "\n",
        "def InitGL(Width, Height,texture_image):\n",
        "    #set background pixels\n",
        "    glClearColor(0.0, 0.0, 0.0, 0.0)\n",
        "\n",
        "    # up to 8 textures in one time\n",
        "    glBindTexture( GL_TEXTURE_2D, 0 )\n",
        "\n",
        "    #set texture context\n",
        "    glTexImage2D( GL_TEXTURE_2D,\n",
        "                      0,\n",
        "                      GL_RGB,\n",
        "                      texture_image.size[0],\n",
        "                      texture_image.size[1],\n",
        "                      0,\n",
        "                      GL_RGBA,\n",
        "                      GL_UNSIGNED_BYTE,\n",
        "                      np.array(list(texture_image.getdata()), np.uint8) )\n",
        "\n",
        "\n",
        "\n",
        "    glTexParameteri( GL_TEXTURE_2D, GL_TEXTURE_MIN_FILTER, GL_NEAREST )\n",
        "    glTexParameteri( GL_TEXTURE_2D, GL_TEXTURE_MAG_FILTER, GL_NEAREST )\n",
        "    glTexParameteri( GL_TEXTURE_2D, GL_TEXTURE_WRAP_S, GL_CLAMP_TO_EDGE )\n",
        "    glTexParameteri( GL_TEXTURE_2D, GL_TEXTURE_WRAP_T, GL_CLAMP_TO_EDGE )\n",
        "\n",
        "    #Set Camera Matrix parameters\n",
        "    glMatrixMode(GL_PROJECTION)\n",
        "    gluPerspective(45.0, window_width/window_height, 0.01, 100.0)\n",
        "\n",
        "    #set ModelView Matrix parameters\n",
        "    glMatrixMode(GL_MODELVIEW)\n",
        "\n",
        "    global program\n",
        "    # Compile Shaders, Link to GL-program, compile Program\n",
        "    program = compileProgram(\n",
        "        compileShader('''\n",
        "            varying vec2 pos;\n",
        "            uniform float texture_width;\n",
        "            uniform float texture_height;\n",
        "\n",
        "            void main() {\n",
        "\n",
        "                gl_Position = gl_ModelViewProjectionMatrix * gl_Vertex;\n",
        "                pos = gl_MultiTexCoord0.st;\n",
        "\n",
        "            }\n",
        "        ''',GL_VERTEX_SHADER),\n",
        "        compileShader('''\n",
        "            varying vec2 pos;\n",
        "\n",
        "            uniform sampler2D s_texture;\n",
        "            uniform float texture_width;\n",
        "            uniform float texture_height;\n",
        "\n",
        "            void main() {\n",
        "                float tx = pos.x;\n",
        "                float ty = pos.y;\n",
        "                float dx = 1.0 / texture_width;\n",
        "                float dy = 1.0 / texture_height;\n",
        "\n",
        "\n",
        "                vec4 v1 = texture2D( s_texture, vec2( tx, ty ) + vec2( -dx, -dy ) );\n",
        "                vec4 v2 = texture2D( s_texture, vec2( tx, ty ) + vec2( -dx, 0 ) );\n",
        "                vec4 v3 = texture2D( s_texture, vec2( tx, ty ) + vec2( -dx, dy ) );\n",
        "\n",
        "                vec4 v4 = texture2D( s_texture, vec2( tx, ty ) + vec2( 0, -dy ) );\n",
        "                vec4 v5 = texture2D( s_texture, vec2( tx, ty ) + vec2( 0 , 0 ) );\n",
        "                vec4 v6 = texture2D( s_texture, vec2( tx, ty ) + vec2( 0, dy ) );\n",
        "\n",
        "                vec4 v7 = texture2D( s_texture, vec2( tx, ty ) + vec2( dx, -dy ) );\n",
        "                vec4 v8 = texture2D( s_texture, vec2( tx, ty ) + vec2( dx, 0 ) );\n",
        "                vec4 v9 = texture2D( s_texture, vec2( tx, ty ) + vec2( dx, dy ) );\n",
        "\n",
        "                //gl_FragColor = texture2D(s_texture, vec2( tx, ty ));\n",
        "                vec4 final_color = pow( v1 * v2 * v3 * v4 * v5 * v6 * v7 * v8 * v9, vec4(1.0 / 9.0));\n",
        "                gl_FragColor = clamp(abs(v5 - final_color) * 100.0, vec4(0,0,0,0), vec4(1,1,1,1)) ;\n",
        "            }\n",
        "    ''',GL_FRAGMENT_SHADER),)"
      ]
    },
    {
      "cell_type": "code",
      "execution_count": 3,
      "id": "b4b016e3",
      "metadata": {
        "id": "b4b016e3"
      },
      "outputs": [],
      "source": [
        "\n",
        "def DrawGLScene():\n",
        "    # Clear color buffer\n",
        "    glClear(GL_COLOR_BUFFER_BIT)\n",
        "\n",
        "    # Restore Model Matrix parameters\n",
        "    glLoadIdentity()\n",
        "\n",
        "    # Translate\n",
        "    glTranslatef(0, 0, -7)\n",
        "\n",
        "    # Load OpenGL(with shaders)program context\n",
        "    glUseProgram(program)\n",
        "\n",
        "    #Texture\n",
        "    glEnable(GL_TEXTURE_2D)\n",
        "    #Draw Quad-points with associated texture coordinates\n",
        "\n",
        "    glBegin(GL_QUADS)\n",
        "    glVertex3f(-5,-5,0)\n",
        "    glTexCoord2f(0,0)\n",
        "\n",
        "    glVertex3f( -5, 5, 0)\n",
        "    glTexCoord2f(0,1)\n",
        "\n",
        "    glVertex3f( 5, 5, 0)\n",
        "    glTexCoord2f(1,1)\n",
        "\n",
        "    glVertex3f( 5, -5, 0)\n",
        "    glTexCoord2f(1,0)\n",
        "    glEnd()\n",
        "\n",
        "    #Load parameters to fragment shader\n",
        "    glUniform1i( glGetUniformLocation( program, \"s_texture\" ), 0 );\n",
        "    glUniform1f( glGetUniformLocation( program, \"texture_width\" ), float( texture_image.size[ 0 ] ) )\n",
        "    glUniform1f( glGetUniformLocation( program, \"texture_height\" ), float( texture_image.size[ 1 ] ) )\n",
        "\n",
        "    glFlush()"
      ]
    },
    {
      "cell_type": "markdown",
      "id": "a06b4e37",
      "metadata": {
        "id": "a06b4e37"
      },
      "source": [
        "# Запуск рендеринга.  Управляющая программа. GLUT"
      ]
    },
    {
      "cell_type": "markdown",
      "source": [
        "*Для запуска ноутбука исходный код был скопирован в файл filter.py. Запуск программы осуществлялся в виртуальном окружении Conda, в котором были установлены следующие библиотеки и инструменты:*\n",
        "\n",
        "1.   GL_accelerate-3.1.9-cp310-cp310-win_amd64.whl;\n",
        "2.   PyOpenGL-3.1.9-cp310-cp310-win_amd64.whl;\n",
        "3.   Python 3.10.0;\n",
        "4.   Pillow 11.1.0;\n",
        "5.   Numpy 1.26.4;\n",
        "6.   Spyder 6.0.3.\n",
        "\n"
      ],
      "metadata": {
        "id": "zUm3Jiam5VAi"
      },
      "id": "zUm3Jiam5VAi"
    },
    {
      "cell_type": "markdown",
      "id": "2d5dbafc",
      "metadata": {
        "id": "2d5dbafc"
      },
      "source": [
        "Инициализация контекста GLUT"
      ]
    },
    {
      "cell_type": "code",
      "execution_count": 4,
      "id": "63086763",
      "metadata": {
        "id": "63086763",
        "outputId": "c6fabe9b-92b0-4b87-a945-0a71c0f0398c",
        "colab": {
          "base_uri": "https://localhost:8080/",
          "height": 304
        }
      },
      "outputs": [
        {
          "output_type": "error",
          "ename": "NullFunctionError",
          "evalue": "Attempt to call an undefined function glutInit, check for bool(glutInit) before calling",
          "traceback": [
            "\u001b[0;31m---------------------------------------------------------------------------\u001b[0m",
            "\u001b[0;31mNullFunctionError\u001b[0m                         Traceback (most recent call last)",
            "\u001b[0;32m<ipython-input-4-a7ac3116cbc0>\u001b[0m in \u001b[0;36m<cell line: 0>\u001b[0;34m()\u001b[0m\n\u001b[1;32m      1\u001b[0m \u001b[0;32mglobal\u001b[0m \u001b[0mwindow\u001b[0m\u001b[0;34m\u001b[0m\u001b[0;34m\u001b[0m\u001b[0m\n\u001b[0;32m----> 2\u001b[0;31m \u001b[0mglutInit\u001b[0m\u001b[0;34m(\u001b[0m\u001b[0msys\u001b[0m\u001b[0;34m.\u001b[0m\u001b[0margv\u001b[0m\u001b[0;34m)\u001b[0m\u001b[0;34m\u001b[0m\u001b[0;34m\u001b[0m\u001b[0m\n\u001b[0m",
            "\u001b[0;32m/usr/local/lib/python3.11/dist-packages/OpenGL/GLUT/special.py\u001b[0m in \u001b[0;36mglutInit\u001b[0;34m(*args)\u001b[0m\n\u001b[1;32m    331\u001b[0m     \u001b[0;32mtry\u001b[0m\u001b[0;34m:\u001b[0m\u001b[0;34m\u001b[0m\u001b[0;34m\u001b[0m\u001b[0m\n\u001b[1;32m    332\u001b[0m         \u001b[0;31m# XXX need to check for error condition here...\u001b[0m\u001b[0;34m\u001b[0m\u001b[0;34m\u001b[0m\u001b[0m\n\u001b[0;32m--> 333\u001b[0;31m         \u001b[0m_base_glutInit\u001b[0m\u001b[0;34m(\u001b[0m \u001b[0mctypes\u001b[0m\u001b[0;34m.\u001b[0m\u001b[0mbyref\u001b[0m\u001b[0;34m(\u001b[0m\u001b[0mcount\u001b[0m\u001b[0;34m)\u001b[0m\u001b[0;34m,\u001b[0m \u001b[0mholder\u001b[0m \u001b[0;34m)\u001b[0m\u001b[0;34m\u001b[0m\u001b[0;34m\u001b[0m\u001b[0m\n\u001b[0m\u001b[1;32m    334\u001b[0m     \u001b[0;32mfinally\u001b[0m\u001b[0;34m:\u001b[0m\u001b[0;34m\u001b[0m\u001b[0;34m\u001b[0m\u001b[0m\n\u001b[1;32m    335\u001b[0m         \u001b[0mos\u001b[0m\u001b[0;34m.\u001b[0m\u001b[0mchdir\u001b[0m\u001b[0;34m(\u001b[0m \u001b[0mcurrentDirectory\u001b[0m \u001b[0;34m)\u001b[0m\u001b[0;34m\u001b[0m\u001b[0;34m\u001b[0m\u001b[0m\n",
            "\u001b[0;32m/usr/local/lib/python3.11/dist-packages/OpenGL/platform/baseplatform.py\u001b[0m in \u001b[0;36m__call__\u001b[0;34m(self, *args, **named)\u001b[0m\n\u001b[1;32m    493\u001b[0m                 \u001b[0;32mpass\u001b[0m\u001b[0;34m\u001b[0m\u001b[0;34m\u001b[0m\u001b[0m\n\u001b[1;32m    494\u001b[0m             \u001b[0;32melse\u001b[0m\u001b[0;34m:\u001b[0m\u001b[0;34m\u001b[0m\u001b[0;34m\u001b[0m\u001b[0m\n\u001b[0;32m--> 495\u001b[0;31m                 raise error.NullFunctionError(\n\u001b[0m\u001b[1;32m    496\u001b[0m                     \u001b[0;34m\"\"\"Attempt to call an undefined function %s, check for bool(%s) before calling\"\"\"\u001b[0m\u001b[0;34m\u001b[0m\u001b[0;34m\u001b[0m\u001b[0m\n\u001b[1;32m    497\u001b[0m                     % (\n",
            "\u001b[0;31mNullFunctionError\u001b[0m: Attempt to call an undefined function glutInit, check for bool(glutInit) before calling"
          ]
        }
      ],
      "source": [
        "global window\n",
        "glutInit(sys.argv)"
      ]
    },
    {
      "cell_type": "markdown",
      "id": "b99e920e",
      "metadata": {
        "id": "b99e920e"
      },
      "source": [
        "Загрузка изображения"
      ]
    },
    {
      "cell_type": "code",
      "execution_count": 5,
      "id": "556be9c8",
      "metadata": {
        "id": "556be9c8"
      },
      "outputs": [],
      "source": [
        "texture_image = Image.open( 'test_img.png' ).convert('RGBA').rotate(90)\n",
        "window_width, window_height = texture_image.size"
      ]
    },
    {
      "cell_type": "markdown",
      "id": "e03fb9d4",
      "metadata": {
        "id": "e03fb9d4"
      },
      "source": [
        "Инициализация окна отрисовки"
      ]
    },
    {
      "cell_type": "code",
      "execution_count": 6,
      "id": "533e9e85",
      "metadata": {
        "id": "533e9e85",
        "colab": {
          "base_uri": "https://localhost:8080/",
          "height": 297
        },
        "outputId": "42094574-6314-4d65-c9a1-f53257dcefde"
      },
      "outputs": [
        {
          "output_type": "error",
          "ename": "NullFunctionError",
          "evalue": "Attempt to call an undefined function glutInitWindowSize, check for bool(glutInitWindowSize) before calling",
          "traceback": [
            "\u001b[0;31m---------------------------------------------------------------------------\u001b[0m",
            "\u001b[0;31mNullFunctionError\u001b[0m                         Traceback (most recent call last)",
            "\u001b[0;32m<ipython-input-6-3faf786529dc>\u001b[0m in \u001b[0;36m<cell line: 0>\u001b[0;34m()\u001b[0m\n\u001b[0;32m----> 1\u001b[0;31m \u001b[0mglutInitWindowSize\u001b[0m\u001b[0;34m(\u001b[0m\u001b[0mwindow_width\u001b[0m\u001b[0;34m,\u001b[0m\u001b[0mwindow_height\u001b[0m\u001b[0;34m)\u001b[0m\u001b[0;34m\u001b[0m\u001b[0;34m\u001b[0m\u001b[0m\n\u001b[0m\u001b[1;32m      2\u001b[0m \u001b[0mglutInitWindowPosition\u001b[0m\u001b[0;34m(\u001b[0m\u001b[0;36m0\u001b[0m\u001b[0;34m,\u001b[0m \u001b[0;36m0\u001b[0m\u001b[0;34m)\u001b[0m\u001b[0;34m\u001b[0m\u001b[0;34m\u001b[0m\u001b[0m\n\u001b[1;32m      3\u001b[0m \u001b[0mwindow\u001b[0m \u001b[0;34m=\u001b[0m \u001b[0mglutCreateWindow\u001b[0m\u001b[0;34m(\u001b[0m\u001b[0;34m\"Shader Image Processing example\"\u001b[0m\u001b[0;34m)\u001b[0m\u001b[0;34m\u001b[0m\u001b[0;34m\u001b[0m\u001b[0m\n",
            "\u001b[0;32m/usr/local/lib/python3.11/dist-packages/OpenGL/platform/baseplatform.py\u001b[0m in \u001b[0;36m__call__\u001b[0;34m(self, *args, **named)\u001b[0m\n\u001b[1;32m    493\u001b[0m                 \u001b[0;32mpass\u001b[0m\u001b[0;34m\u001b[0m\u001b[0;34m\u001b[0m\u001b[0m\n\u001b[1;32m    494\u001b[0m             \u001b[0;32melse\u001b[0m\u001b[0;34m:\u001b[0m\u001b[0;34m\u001b[0m\u001b[0;34m\u001b[0m\u001b[0m\n\u001b[0;32m--> 495\u001b[0;31m                 raise error.NullFunctionError(\n\u001b[0m\u001b[1;32m    496\u001b[0m                     \u001b[0;34m\"\"\"Attempt to call an undefined function %s, check for bool(%s) before calling\"\"\"\u001b[0m\u001b[0;34m\u001b[0m\u001b[0;34m\u001b[0m\u001b[0m\n\u001b[1;32m    497\u001b[0m                     % (\n",
            "\u001b[0;31mNullFunctionError\u001b[0m: Attempt to call an undefined function glutInitWindowSize, check for bool(glutInitWindowSize) before calling"
          ]
        }
      ],
      "source": [
        "glutInitWindowSize(window_width,window_height)\n",
        "glutInitWindowPosition(0, 0)\n",
        "window = glutCreateWindow(\"Shader Image Processing example\")"
      ]
    },
    {
      "cell_type": "markdown",
      "id": "75dfe635",
      "metadata": {
        "id": "75dfe635"
      },
      "source": [
        "Назначение функций для отображения текущего окна и перерисовки (системный запрос)"
      ]
    },
    {
      "cell_type": "code",
      "execution_count": null,
      "id": "1f1464c0",
      "metadata": {
        "id": "1f1464c0",
        "outputId": "df3b43c2-ba99-47f6-f14b-d60f09bb92b8"
      },
      "outputs": [
        {
          "data": {
            "text/plain": [
              "<CFunctionType object at 0x000001B9BCE41150>"
            ]
          },
          "execution_count": 12,
          "metadata": {},
          "output_type": "execute_result"
        }
      ],
      "source": [
        "glutDisplayFunc(DrawGLScene)\n",
        "glutIdleFunc(DrawGLScene)"
      ]
    },
    {
      "cell_type": "markdown",
      "id": "ec85612c",
      "metadata": {
        "id": "ec85612c"
      },
      "source": [
        "Инициализация контекста OpenGL (собственно разработанная функция)"
      ]
    },
    {
      "cell_type": "code",
      "execution_count": null,
      "id": "8ac0d44d",
      "metadata": {
        "id": "8ac0d44d"
      },
      "outputs": [],
      "source": [
        "InitGL(window_width,window_height,texture_image)"
      ]
    },
    {
      "cell_type": "markdown",
      "id": "76cb076c",
      "metadata": {
        "id": "76cb076c"
      },
      "source": [
        "Запуск цикла для отрисовки"
      ]
    },
    {
      "cell_type": "code",
      "execution_count": null,
      "id": "97c16e4c",
      "metadata": {
        "id": "97c16e4c"
      },
      "outputs": [],
      "source": [
        "glutMainLoop()"
      ]
    }
  ],
  "metadata": {
    "colab": {
      "provenance": []
    },
    "kernelspec": {
      "display_name": "Python 3 (ipykernel)",
      "language": "python",
      "name": "python3"
    },
    "language_info": {
      "codemirror_mode": {
        "name": "ipython",
        "version": 3
      },
      "file_extension": ".py",
      "mimetype": "text/x-python",
      "name": "python",
      "nbconvert_exporter": "python",
      "pygments_lexer": "ipython3",
      "version": "3.10.4"
    }
  },
  "nbformat": 4,
  "nbformat_minor": 5
}